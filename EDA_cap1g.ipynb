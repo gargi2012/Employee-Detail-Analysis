{
 "cells": [
  {
   "cell_type": "code",
   "execution_count": 1,
   "metadata": {},
   "outputs": [],
   "source": [
    "import os\n",
    "os.environ['PYSPARK_DRIVER_PYTHON'] = '/opt/anaconda3/bin/python3.7'\n",
    "os.environ['PYSPARK_PYTHON'] = '/opt/anaconda3/bin/python3.7'\n",
    "os.environ[\"SPARK_HOME\"] = '/opt/cloudera/parcels/CDH/lib/spark'\n",
    "\n",
    "\n",
    "import findspark\n",
    "findspark.init()\n",
    "from pyspark import SparkContext, SparkConf\n",
    "from pyspark.sql import SparkSession,SQLContext, Row"
   ]
  },
  {
   "cell_type": "code",
   "execution_count": 2,
   "metadata": {},
   "outputs": [],
   "source": [
    "user_id = 'anabig114237'"
   ]
  },
  {
   "cell_type": "code",
   "execution_count": 3,
   "metadata": {},
   "outputs": [],
   "source": [
    "app_name = '{0} : Hive Integration'.format(user_id)\n",
    "app_name \n",
    "\n",
    "\n",
    "spark = SparkSession.builder.appName(\"app_name\").config(\"spark.sql.catalogImplementation=hive\").enableHiveSupport().getOrCreate() #Singleton instance"
   ]
  },
  {
   "cell_type": "code",
   "execution_count": 4,
   "metadata": {},
   "outputs": [],
   "source": [
    "def get_hdfs_filepath(file_name):\n",
    "    my_hdfs = '/user/{0}'.format(user_id.lower())\n",
    "    return os.path.join(my_hdfs,file_name)\n",
    "\n",
    "\n",
    "sparkSession = (SparkSession.builder.appName(\"app_name\").config(\"hive.metastore.uris\",\"thrift://ip-10-1-2-24.ap-south-1.compute.internal:9083\").enableHiveSupport().getOrCreate())"
   ]
  },
  {
   "cell_type": "code",
   "execution_count": 13,
   "metadata": {},
   "outputs": [
    {
     "data": {
      "text/plain": [
       "DataFrame[]"
      ]
     },
     "execution_count": 13,
     "metadata": {},
     "output_type": "execute_result"
    }
   ],
   "source": [
    "sparkSession.sql(\"use cap1g\")"
   ]
  },
  {
   "cell_type": "code",
   "execution_count": 14,
   "metadata": {},
   "outputs": [
    {
     "name": "stdout",
     "output_type": "stream",
     "text": [
      "+--------+-------------+-----------+\n",
      "|database|    tableName|isTemporary|\n",
      "+--------+-------------+-----------+\n",
      "|   cap1g|  departments|      false|\n",
      "|   cap1g|     dept_emp|      false|\n",
      "|   cap1g|dept_managers|      false|\n",
      "|   cap1g|    employees|      false|\n",
      "|   cap1g|     salaries|      false|\n",
      "|   cap1g|       titles|      false|\n",
      "+--------+-------------+-----------+\n",
      "\n"
     ]
    }
   ],
   "source": [
    "sparkSession.sql(\"show tables\").show()"
   ]
  },
  {
   "cell_type": "code",
   "execution_count": 16,
   "metadata": {},
   "outputs": [
    {
     "name": "stdout",
     "output_type": "stream",
     "text": [
      "+-------+--------------------+\n",
      "|dept_no|           dept_name|\n",
      "+-------+--------------------+\n",
      "|   d001|         \"Marketing\"|\n",
      "|   d002|           \"Finance\"|\n",
      "|   d003|   \"Human Resources\"|\n",
      "|   d004|        \"Production\"|\n",
      "|   d005|       \"development\"|\n",
      "|   d006|\"Quality Management\"|\n",
      "|   d007|             \"Sales\"|\n",
      "|   d008|          \"Research\"|\n",
      "|   d009|  \"Customer Service\"|\n",
      "+-------+--------------------+\n",
      "\n"
     ]
    }
   ],
   "source": [
    "sparkSession.sql(\"select * from departments\").show()"
   ]
  },
  {
   "cell_type": "code",
   "execution_count": 22,
   "metadata": {},
   "outputs": [
    {
     "name": "stdout",
     "output_type": "stream",
     "text": [
      "+------+-----------+----------+---+------+\n",
      "|emp_no|  last_name|first_name|sex|salary|\n",
      "+------+-----------+----------+---+------+\n",
      "| 10001|    Facello|    Georgi|  M| 60117|\n",
      "| 10002|     Simmel|   Bezalel|  F| 65828|\n",
      "| 10003|    Bamford|     Parto|  M| 40006|\n",
      "| 10004|    Koblick| Chirstian|  M| 40054|\n",
      "| 10005|   Maliniak|   Kyoichi|  M| 78228|\n",
      "| 10006|    Preusig|    Anneke|  F| 40000|\n",
      "| 10007|  Zielinski|   Tzvetan|  F| 56724|\n",
      "| 10008|   Kalloufi|    Saniya|  M| 46671|\n",
      "| 10009|       Peac|    Sumant|  F| 60929|\n",
      "| 10010|   Piveteau| Duangkaew|  F| 72488|\n",
      "| 10011|      Sluis|      Mary|  F| 42365|\n",
      "| 10012|  Bridgland|  Patricio|  M| 40000|\n",
      "| 10013|     Terkki| Eberhardt|  M| 40000|\n",
      "| 10014|      Genin|     Berni|  M| 46168|\n",
      "| 10015|  Nooteboom|  Guoxiang|  M| 40000|\n",
      "| 10016|Cappelletti|  Kazuhito|  M| 70889|\n",
      "| 10017|  Bouloucos| Cristinel|  F| 71380|\n",
      "| 10018|       Peha|  Kazuhide|  F| 55881|\n",
      "| 10019|    Haddadi|   Lillian|  M| 44276|\n",
      "| 10020|    Warwick|    Mayuko|  M| 40000|\n",
      "+------+-----------+----------+---+------+\n",
      "only showing top 20 rows\n",
      "\n"
     ]
    }
   ],
   "source": [
    "#1.\n",
    "sparkSession.sql(\"SELECT emp.emp_no, last_name, first_name, sex, \\\n",
    "salary from employees emp INNER JOIN salaries sal ON emp.emp_no = sal.emp_no\").show()"
   ]
  },
  {
   "cell_type": "code",
   "execution_count": null,
   "metadata": {},
   "outputs": [],
   "source": [
    "#2."
   ]
  },
  {
   "cell_type": "code",
   "execution_count": 36,
   "metadata": {},
   "outputs": [
    {
     "name": "stdout",
     "output_type": "stream",
     "text": [
      "+-------+--------------------+------+------------+-----------+\n",
      "|dept_no|           dept_name|emp_no|   last_name| first_name|\n",
      "+-------+--------------------+------+------------+-----------+\n",
      "|   d001|         \"Marketing\"|110022|  Markovitch|  Margareta|\n",
      "|   d002|           \"Finance\"|110085|       Alpin|       Ebru|\n",
      "|   d003|   \"Human Resources\"|110183|Ossenbruggen|    Shirish|\n",
      "|   d004|        \"Production\"|110303|     Wegerle|  Krassimir|\n",
      "|   d005|       \"development\"|110511|    Hagimont|   DeForest|\n",
      "|   d006|\"Quality Management\"|110725|     Onuegbe|  Peternela|\n",
      "|   d007|             \"Sales\"|111035|   Kaelbling|Przemyslawa|\n",
      "|   d008|          \"Research\"|111400|     Staelin|       Arie|\n",
      "|   d009|  \"Customer Service\"|111692| Butterworth|      Tonny|\n",
      "+-------+--------------------+------+------------+-----------+\n",
      "\n"
     ]
    }
   ],
   "source": [
    "#3\n",
    "sparkSession.sql(\"select a.dept_no, dept_name, b.emp_no, last_name, first_name from departments a \\\n",
    "inner join dept_managers b \\\n",
    "on a.dept_no = b.dept_no \\\n",
    "inner join employees c \\\n",
    "on b.emp_no = c.emp_no \").show()\n"
   ]
  },
  {
   "cell_type": "code",
   "execution_count": 57,
   "metadata": {},
   "outputs": [
    {
     "name": "stdout",
     "output_type": "stream",
     "text": [
      "+------+-----------+----------+--------------------+\n",
      "|emp_no|  last_name|first_name|           dept_name|\n",
      "+------+-----------+----------+--------------------+\n",
      "| 10001|    Facello|    Georgi|       \"development\"|\n",
      "| 10002|     Simmel|   Bezalel|             \"Sales\"|\n",
      "| 10003|    Bamford|     Parto|        \"Production\"|\n",
      "| 10004|    Koblick| Chirstian|        \"Production\"|\n",
      "| 10005|   Maliniak|   Kyoichi|   \"Human Resources\"|\n",
      "| 10006|    Preusig|    Anneke|       \"development\"|\n",
      "| 10007|  Zielinski|   Tzvetan|          \"Research\"|\n",
      "| 10008|   Kalloufi|    Saniya|       \"development\"|\n",
      "| 10009|       Peac|    Sumant|\"Quality Management\"|\n",
      "| 10010|   Piveteau| Duangkaew|        \"Production\"|\n",
      "| 10011|      Sluis|      Mary|  \"Customer Service\"|\n",
      "| 10012|  Bridgland|  Patricio|       \"development\"|\n",
      "| 10013|     Terkki| Eberhardt|   \"Human Resources\"|\n",
      "| 10014|      Genin|     Berni|       \"development\"|\n",
      "| 10015|  Nooteboom|  Guoxiang|          \"Research\"|\n",
      "| 10016|Cappelletti|  Kazuhito|             \"Sales\"|\n",
      "| 10017|  Bouloucos| Cristinel|         \"Marketing\"|\n",
      "| 10018|       Peha|  Kazuhide|        \"Production\"|\n",
      "| 10019|    Haddadi|   Lillian|          \"Research\"|\n",
      "| 10020|    Warwick|    Mayuko|        \"Production\"|\n",
      "+------+-----------+----------+--------------------+\n",
      "only showing top 20 rows\n",
      "\n"
     ]
    }
   ],
   "source": [
    "#4\n",
    "sparkSession.sql(\"SELECT a.emp_no, last_name, first_name, dept_name \\\n",
    "from employees a \\\n",
    "INNER JOIN dept_emp b \\\n",
    "on a.emp_no = b.emp_no \\\n",
    "INNER JOIN departments c on b.dept_no = c.dept_no \" ).show()\n"
   ]
  },
  {
   "cell_type": "code",
   "execution_count": 58,
   "metadata": {},
   "outputs": [
    {
     "name": "stdout",
     "output_type": "stream",
     "text": [
      "+----------+-------------+---+\n",
      "|first_name|    last_name|sex|\n",
      "+----------+-------------+---+\n",
      "|  Hercules|   Benzmuller|  M|\n",
      "|  Hercules|      Brendel|  F|\n",
      "|  Hercules|   Baranowski|  M|\n",
      "|  Hercules|     Barreiro|  M|\n",
      "|  Hercules|         Baer|  M|\n",
      "|  Hercules|Bernardinello|  F|\n",
      "|  Hercules|      Basagni|  M|\n",
      "|  Hercules|        Biran|  F|\n",
      "|  Hercules|    Bernatsky|  M|\n",
      "|  Hercules|         Bail|  F|\n",
      "|  Hercules|        Birge|  F|\n",
      "|  Hercules|      Bisiani|  F|\n",
      "|  Hercules|       Bodoff|  M|\n",
      "|  Hercules|        Biron|  F|\n",
      "|  Hercules|      Buchter|  M|\n",
      "|  Hercules|         Bain|  F|\n",
      "|  Hercules|         Bahr|  M|\n",
      "|  Hercules|         Baak|  M|\n",
      "|  Hercules|     Benantar|  F|\n",
      "|  Hercules|      Berstel|  F|\n",
      "+----------+-------------+---+\n",
      "\n"
     ]
    }
   ],
   "source": [
    "#5\n",
    "sparkSession.sql(\"\tSELECT first_name, last_name, sex \\\n",
    "FROM employees \\\n",
    "WHERE first_name = 'Hercules' and last_name LIKE 'B%'\" ).show()"
   ]
  },
  {
   "cell_type": "code",
   "execution_count": 107,
   "metadata": {},
   "outputs": [
    {
     "name": "stdout",
     "output_type": "stream",
     "text": [
      "+------+---------+----------+---------+\n",
      "|emp_no|last_name|first_name|dept_name|\n",
      "+------+---------+----------+---------+\n",
      "+------+---------+----------+---------+\n",
      "\n"
     ]
    }
   ],
   "source": [
    "#6\n",
    "sparkSession.sql('SELECT c.emp_no, last_name, first_name,dept_name \\\n",
    "FROM departments a \\\n",
    "INNER JOIN dept_emp b \\\n",
    "on a.dept_no = b.dept_no \\\n",
    "INNER JOIN employees c \\\n",
    "on b.emp_no = c.emp_no \\\n",
    "WHERE dept_name = \"Sales\" ').show()"
   ]
  },
  {
   "cell_type": "code",
   "execution_count": 61,
   "metadata": {},
   "outputs": [
    {
     "name": "stdout",
     "output_type": "stream",
     "text": [
      "+------+---------+----------+---------+\n",
      "|emp_no|last_name|first_name|dept_name|\n",
      "+------+---------+----------+---------+\n",
      "+------+---------+----------+---------+\n",
      "\n"
     ]
    }
   ],
   "source": [
    "#7. \n",
    "sparkSession.sql('SELECT a.emp_no, last_name, first_name, dept_name \\\n",
    "from employees a \\\n",
    "INNER JOIN dept_emp b \\\n",
    "on a.emp_no = b.emp_no \\\n",
    "INNER JOIN departments c \\\n",
    "on b.dept_no = c.dept_no \\\n",
    "where c.dept_name =  \"Sales\" AND c.dept_name = \"development\"').show()"
   ]
  },
  {
   "cell_type": "code",
   "execution_count": 63,
   "metadata": {},
   "outputs": [
    {
     "name": "stdout",
     "output_type": "stream",
     "text": [
      "+-----------+---------------+\n",
      "|  last_name|no_of_employees|\n",
      "+-----------+---------------+\n",
      "|       Baba|            226|\n",
      "|      Coorg|            223|\n",
      "|     Gelosh|            223|\n",
      "|     Farris|            222|\n",
      "|    Sudbeck|            222|\n",
      "|     Adachi|            221|\n",
      "|     Osgood|            220|\n",
      "|     Neiman|            218|\n",
      "|    Mandell|            218|\n",
      "|     Masada|            218|\n",
      "|    Wendorf|            217|\n",
      "|Boudaillier|            217|\n",
      "|    Solares|            216|\n",
      "|   Cummings|            216|\n",
      "|     Pettis|            216|\n",
      "|     Mahnke|            216|\n",
      "|   Collette|            215|\n",
      "|    Kulisch|            215|\n",
      "|   Birjandi|            215|\n",
      "| Maksimenko|            215|\n",
      "+-----------+---------------+\n",
      "only showing top 20 rows\n",
      "\n"
     ]
    }
   ],
   "source": [
    "#8.\n",
    "sparkSession.sql('SELECT last_name, count(*) no_of_employees \\\n",
    "from employees \\\n",
    "GROUP BY last_name \\\n",
    "ORDER BY count(*) DESC').show()"
   ]
  },
  {
   "cell_type": "code",
   "execution_count": 72,
   "metadata": {},
   "outputs": [],
   "source": [
    "#9. \n",
    "import numpy as np\n",
    "import matplotlib.pyplot as plt\n",
    "import seaborn as sns"
   ]
  },
  {
   "cell_type": "code",
   "execution_count": 81,
   "metadata": {},
   "outputs": [],
   "source": [
    "sal= sparkSession.sql('SELECT salary, count(*) no_of_employees from salaries \\\n",
    "GROUP BY salary')\n",
    "data1 = sal.toPandas()"
   ]
  },
  {
   "cell_type": "code",
   "execution_count": 82,
   "metadata": {},
   "outputs": [
    {
     "data": {
      "text/html": [
       "<div>\n",
       "<style scoped>\n",
       "    .dataframe tbody tr th:only-of-type {\n",
       "        vertical-align: middle;\n",
       "    }\n",
       "\n",
       "    .dataframe tbody tr th {\n",
       "        vertical-align: top;\n",
       "    }\n",
       "\n",
       "    .dataframe thead th {\n",
       "        text-align: right;\n",
       "    }\n",
       "</style>\n",
       "<table border=\"1\" class=\"dataframe\">\n",
       "  <thead>\n",
       "    <tr style=\"text-align: right;\">\n",
       "      <th></th>\n",
       "      <th>salary</th>\n",
       "      <th>no_of_employees</th>\n",
       "    </tr>\n",
       "  </thead>\n",
       "  <tbody>\n",
       "    <tr>\n",
       "      <th>0</th>\n",
       "      <td>50219</td>\n",
       "      <td>7</td>\n",
       "    </tr>\n",
       "    <tr>\n",
       "      <th>1</th>\n",
       "      <td>102092</td>\n",
       "      <td>1</td>\n",
       "    </tr>\n",
       "    <tr>\n",
       "      <th>2</th>\n",
       "      <td>91628</td>\n",
       "      <td>2</td>\n",
       "    </tr>\n",
       "    <tr>\n",
       "      <th>3</th>\n",
       "      <td>74114</td>\n",
       "      <td>6</td>\n",
       "    </tr>\n",
       "    <tr>\n",
       "      <th>4</th>\n",
       "      <td>52051</td>\n",
       "      <td>12</td>\n",
       "    </tr>\n",
       "    <tr>\n",
       "      <th>...</th>\n",
       "      <td>...</td>\n",
       "      <td>...</td>\n",
       "    </tr>\n",
       "    <tr>\n",
       "      <th>50350</th>\n",
       "      <td>88607</td>\n",
       "      <td>1</td>\n",
       "    </tr>\n",
       "    <tr>\n",
       "      <th>50351</th>\n",
       "      <td>94066</td>\n",
       "      <td>1</td>\n",
       "    </tr>\n",
       "    <tr>\n",
       "      <th>50352</th>\n",
       "      <td>99539</td>\n",
       "      <td>1</td>\n",
       "    </tr>\n",
       "    <tr>\n",
       "      <th>50353</th>\n",
       "      <td>101652</td>\n",
       "      <td>1</td>\n",
       "    </tr>\n",
       "    <tr>\n",
       "      <th>50354</th>\n",
       "      <td>73148</td>\n",
       "      <td>1</td>\n",
       "    </tr>\n",
       "  </tbody>\n",
       "</table>\n",
       "<p>50355 rows × 2 columns</p>\n",
       "</div>"
      ],
      "text/plain": [
       "       salary  no_of_employees\n",
       "0       50219                7\n",
       "1      102092                1\n",
       "2       91628                2\n",
       "3       74114                6\n",
       "4       52051               12\n",
       "...       ...              ...\n",
       "50350   88607                1\n",
       "50351   94066                1\n",
       "50352   99539                1\n",
       "50353  101652                1\n",
       "50354   73148                1\n",
       "\n",
       "[50355 rows x 2 columns]"
      ]
     },
     "execution_count": 82,
     "metadata": {},
     "output_type": "execute_result"
    }
   ],
   "source": [
    "data1"
   ]
  },
  {
   "cell_type": "code",
   "execution_count": 94,
   "metadata": {
    "scrolled": false
   },
   "outputs": [
    {
     "data": {
      "text/plain": [
       "<matplotlib.axes._subplots.AxesSubplot at 0x7fdf4a1484d0>"
      ]
     },
     "execution_count": 94,
     "metadata": {},
     "output_type": "execute_result"
    },
    {
     "data": {
      "image/png": "[encoded data removed]",
      "text/plain": [
       "<Figure size 432x288 with 1 Axes>"
      ]
     },
     "metadata": {
      "needs_background": "light"
     },
     "output_type": "display_data"
    }
   ],
   "source": [
    "sns.barplot(data=data1, y=\"salary\")"
   ]
  },
  {
   "cell_type": "code",
   "execution_count": 98,
   "metadata": {},
   "outputs": [
    {
     "data": {
      "text/plain": [
       "<matplotlib.axes._subplots.AxesSubplot at 0x7fdf49f01810>"
      ]
     },
     "execution_count": 98,
     "metadata": {},
     "output_type": "execute_result"
    },
    {
     "data": {
      "image/png": "[encoded data removed]",
      "text/plain": [
       "<Figure size 432x288 with 1 Axes>"
      ]
     },
     "metadata": {
      "needs_background": "light"
     },
     "output_type": "display_data"
    }
   ],
   "source": [
    "sns.scatterplot(data=data1, x=\"salary\", y=\"no_of_employees\")"
   ]
  },
  {
   "cell_type": "code",
   "execution_count": 78,
   "metadata": {},
   "outputs": [],
   "source": [
    "#10.\n",
    "avg_sal = sparkSession.sql(\"SELECT title, avg(salary) avg_salary \\\n",
    "from titles a \\\n",
    "INNER JOIN employees b \\\n",
    "on a.title_id = b.emp_title_id \\\n",
    "INNER JOIN salaries c \\\n",
    "on b.emp_no =  c.emp_no \\\n",
    "GROUP BY title\")\n",
    "data2 = avg_sal.toPandas()"
   ]
  },
  {
   "cell_type": "code",
   "execution_count": 79,
   "metadata": {
    "scrolled": true
   },
   "outputs": [
    {
     "data": {
      "text/html": [
       "<div>\n",
       "<style scoped>\n",
       "    .dataframe tbody tr th:only-of-type {\n",
       "        vertical-align: middle;\n",
       "    }\n",
       "\n",
       "    .dataframe tbody tr th {\n",
       "        vertical-align: top;\n",
       "    }\n",
       "\n",
       "    .dataframe thead th {\n",
       "        text-align: right;\n",
       "    }\n",
       "</style>\n",
       "<table border=\"1\" class=\"dataframe\">\n",
       "  <thead>\n",
       "    <tr style=\"text-align: right;\">\n",
       "      <th></th>\n",
       "      <th>title</th>\n",
       "      <th>avg_salary</th>\n",
       "    </tr>\n",
       "  </thead>\n",
       "  <tbody>\n",
       "    <tr>\n",
       "      <th>0</th>\n",
       "      <td>Staff</td>\n",
       "      <td>58465.382850</td>\n",
       "    </tr>\n",
       "    <tr>\n",
       "      <th>1</th>\n",
       "      <td>Assistant Engineer</td>\n",
       "      <td>48564.434447</td>\n",
       "    </tr>\n",
       "    <tr>\n",
       "      <th>2</th>\n",
       "      <td>Senior Staff</td>\n",
       "      <td>58550.172704</td>\n",
       "    </tr>\n",
       "    <tr>\n",
       "      <th>3</th>\n",
       "      <td>Senior Engineer</td>\n",
       "      <td>48506.799871</td>\n",
       "    </tr>\n",
       "    <tr>\n",
       "      <th>4</th>\n",
       "      <td>Engineer</td>\n",
       "      <td>48535.336511</td>\n",
       "    </tr>\n",
       "    <tr>\n",
       "      <th>5</th>\n",
       "      <td>Manager</td>\n",
       "      <td>51531.041667</td>\n",
       "    </tr>\n",
       "    <tr>\n",
       "      <th>6</th>\n",
       "      <td>Technique Leader</td>\n",
       "      <td>48582.896092</td>\n",
       "    </tr>\n",
       "  </tbody>\n",
       "</table>\n",
       "</div>"
      ],
      "text/plain": [
       "                title    avg_salary\n",
       "0               Staff  58465.382850\n",
       "1  Assistant Engineer  48564.434447\n",
       "2        Senior Staff  58550.172704\n",
       "3     Senior Engineer  48506.799871\n",
       "4            Engineer  48535.336511\n",
       "5             Manager  51531.041667\n",
       "6    Technique Leader  48582.896092"
      ]
     },
     "execution_count": 79,
     "metadata": {},
     "output_type": "execute_result"
    }
   ],
   "source": [
    "data2"
   ]
  },
  {
   "cell_type": "code",
   "execution_count": 83,
   "metadata": {},
   "outputs": [
    {
     "data": {
      "text/plain": [
       "<matplotlib.axes._subplots.AxesSubplot at 0x7fdec323ac50>"
      ]
     },
     "execution_count": 83,
     "metadata": {},
     "output_type": "execute_result"
    },
    {
     "data": {
      "image/png": "[encoded data removed]",
      "text/plain": [
       "<Figure size 432x288 with 1 Axes>"
      ]
     },
     "metadata": {
      "needs_background": "light"
     },
     "output_type": "display_data"
    }
   ],
   "source": [
    "data2.plot(kind = 'bar', x= 'title', y = 'avg_salary')"
   ]
  },
  {
   "cell_type": "code",
   "execution_count": null,
   "metadata": {},
   "outputs": [],
   "source": [
    "#11. "
   ]
  },
  {
   "cell_type": "code",
   "execution_count": 91,
   "metadata": {},
   "outputs": [
    {
     "name": "stdout",
     "output_type": "stream",
     "text": [
      "+-----+--------+\n",
      "|left_|count(1)|\n",
      "+-----+--------+\n",
      "| true|  300024|\n",
      "+-----+--------+\n",
      "\n"
     ]
    }
   ],
   "source": [
    "#12 a\n",
    "sparkSession.sql('Select left_, count(*) From employees Group by left_').show()"
   ]
  },
  {
   "cell_type": "code",
   "execution_count": 96,
   "metadata": {},
   "outputs": [
    {
     "name": "stdout",
     "output_type": "stream",
     "text": [
      "+--------------------+--------+\n",
      "|           dept_name|count(1)|\n",
      "+--------------------+--------+\n",
      "|\"Quality Management\"|   14873|\n",
      "|        \"Production\"|   73485|\n",
      "|       \"development\"|   81293|\n",
      "|          \"Research\"|   14950|\n",
      "|             \"Sales\"|   47730|\n",
      "|           \"Finance\"|   17346|\n",
      "|   \"Human Resources\"|   15166|\n",
      "|         \"Marketing\"|   20211|\n",
      "|  \"Customer Service\"|   14970|\n",
      "+--------------------+--------+\n",
      "\n"
     ]
    }
   ],
   "source": [
    "#12 b\n",
    "sparkSession.sql('select dept_name, count(*) from employees a \\\n",
    "inner join dept_emp b \\\n",
    "on a.emp_no = b.emp_no \\\n",
    "inner join departments c on b.dept_no = c.dept_no \\\n",
    "where left_ \\\n",
    "group by dept_name').show()"
   ]
  },
  {
   "cell_type": "code",
   "execution_count": 101,
   "metadata": {},
   "outputs": [
    {
     "name": "stdout",
     "output_type": "stream",
     "text": [
      "+---+---------------+\n",
      "|sex|no_of_employees|\n",
      "+---+---------------+\n",
      "|  F|         120051|\n",
      "|  M|         179973|\n",
      "+---+---------------+\n",
      "\n"
     ]
    }
   ],
   "source": [
    "#12 c\n",
    "sparkSession.sql('select sex, count(*) no_of_employees \\\n",
    "from employees \\\n",
    "group by sex').show()"
   ]
  },
  {
   "cell_type": "code",
   "execution_count": 102,
   "metadata": {},
   "outputs": [
    {
     "name": "stdout",
     "output_type": "stream",
     "text": [
      "+-----------------------+--------+\n",
      "|last_performance_rating|count(1)|\n",
      "+-----------------------+--------+\n",
      "|                      B|  107154|\n",
      "|                      C|   71304|\n",
      "|                      A|   95919|\n",
      "|                      S|   10542|\n",
      "|                    PIP|   15105|\n",
      "+-----------------------+--------+\n",
      "\n"
     ]
    }
   ],
   "source": [
    "#12 d\n",
    "sparkSession.sql('select last_performance_rating, count(*) \\\n",
    "from employees \\\n",
    "group by last_performance_rating').show()"
   ]
  },
  {
   "cell_type": "code",
   "execution_count": 104,
   "metadata": {},
   "outputs": [
    {
     "name": "stdout",
     "output_type": "stream",
     "text": [
      "+------+--------------------+-----------------------+\n",
      "|emp_no|           dept_name|last_performance_rating|\n",
      "+------+--------------------+-----------------------+\n",
      "|110022|         \"Marketing\"|                      C|\n",
      "|110085|           \"Finance\"|                      A|\n",
      "|110183|   \"Human Resources\"|                      A|\n",
      "|110303|        \"Production\"|                      C|\n",
      "|110511|       \"development\"|                      A|\n",
      "|110725|\"Quality Management\"|                      A|\n",
      "|111035|             \"Sales\"|                      B|\n",
      "|111400|          \"Research\"|                      C|\n",
      "|111692|  \"Customer Service\"|                      C|\n",
      "+------+--------------------+-----------------------+\n",
      "\n"
     ]
    }
   ],
   "source": [
    "#12 e\n",
    "sparkSession.sql('select a.emp_no, first_name, last_name, dept_name, last_performance_rating \\\n",
    "from employees a \\\n",
    "inner join dept_managers b \\\n",
    "on a.emp_no = b.emp_no \\\n",
    "inner join departments c \\\n",
    "on b.dept_no = c.dept_no').show()"
   ]
  },
  {
   "cell_type": "code",
   "execution_count": null,
   "metadata": {},
   "outputs": [],
   "source": []
  }
 ],
 "metadata": {
  "kernelspec": {
   "display_name": "Python 3",
   "language": "python",
   "name": "python3"
  },
  "language_info": {
   "codemirror_mode": {
    "name": "ipython",
    "version": 3
   },
   "file_extension": ".py",
   "mimetype": "text/x-python",
   "name": "python",
   "nbconvert_exporter": "python",
   "pygments_lexer": "ipython3",
   "version": "3.7.6"
  }
 },
 "nbformat": 4,
 "nbformat_minor": 4
}
