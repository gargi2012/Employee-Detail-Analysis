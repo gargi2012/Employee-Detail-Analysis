{
 "cells": [
  {
   "cell_type": "markdown",
   "metadata": {},
   "source": [
    "# CAPSTONE PROJECT 1: ML PIPELINE"
   ]
  },
  {
   "cell_type": "markdown",
   "metadata": {},
   "source": [
    "###### SUBMITTED BY: GARGI S"
   ]
  },
  {
   "cell_type": "markdown",
   "metadata": {},
   "source": [
    "### INITIALISING SPARK AND IMPORTING LIBRARIES"
   ]
  },
  {
   "cell_type": "code",
   "execution_count": 1,
   "metadata": {},
   "outputs": [],
   "source": [
    "import os\n",
    "os.environ['PYSPARK_DRIVER_PYTHON'] = '/opt/anaconda3/bin/python3.7'\n",
    "os.environ['PYSPARK_PYTHON'] = '/opt/anaconda3/bin/python3.7'\n",
    "os.environ[\"SPARK_HOME\"] = '/opt/cloudera/parcels/CDH/lib/spark'\n",
    "\n",
    "\n",
    "import findspark\n",
    "findspark.init()\n",
    "from pyspark import SparkContext, SparkConf\n",
    "from pyspark.sql import SparkSession,SQLContext, Row"
   ]
  },
  {
   "cell_type": "code",
   "execution_count": 132,
   "metadata": {},
   "outputs": [],
   "source": [
    "import pandas\n",
    "import seaborn as sns\n",
    "import matplotlib.pyplot as plt\n",
    "import numpy as np\n",
    "from pyspark.ml.feature import StringIndexer, OneHotEncoder, VectorAssembler\n",
    "from pyspark.sql import functions as F\n",
    "from pyspark.ml.classification import RandomForestClassifier ,LogisticRegression\n",
    "from pyspark.ml.evaluation import MulticlassClassificationEvaluator, BinaryClassificationEvaluator\n",
    "from pyspark.ml import Pipeline"
   ]
  },
  {
   "cell_type": "code",
   "execution_count": 3,
   "metadata": {},
   "outputs": [],
   "source": [
    "user_id = 'anabig114237'"
   ]
  },
  {
   "cell_type": "code",
   "execution_count": 4,
   "metadata": {},
   "outputs": [],
   "source": [
    "app_name = '{0} : Hive Integration'.format(user_id)\n",
    "app_name \n",
    "\n",
    "\n",
    "spark = SparkSession.builder.appName(\"app_name\").config(\"spark.sql.catalogImplementation=hive\").enableHiveSupport().getOrCreate() #Singleton instance"
   ]
  },
  {
   "cell_type": "code",
   "execution_count": 5,
   "metadata": {},
   "outputs": [],
   "source": [
    "\n",
    "sparkSession = (SparkSession.builder.appName(\"app_name\").config(\"hive.metastore.uris\",\"thrift://ip-10-1-2-24.ap-south-1.compute.internal:9083\").enableHiveSupport().getOrCreate())"
   ]
  },
  {
   "cell_type": "markdown",
   "metadata": {},
   "source": [
    "### IMPORTING DATA"
   ]
  },
  {
   "cell_type": "code",
   "execution_count": 6,
   "metadata": {},
   "outputs": [
    {
     "data": {
      "text/plain": [
       "DataFrame[]"
      ]
     },
     "execution_count": 6,
     "metadata": {},
     "output_type": "execute_result"
    }
   ],
   "source": [
    "sparkSession.sql(\"use cap1g\")"
   ]
  },
  {
   "cell_type": "code",
   "execution_count": 7,
   "metadata": {},
   "outputs": [
    {
     "name": "stdout",
     "output_type": "stream",
     "text": [
      "+--------+-------------+-----------+\n",
      "|database|    tableName|isTemporary|\n",
      "+--------+-------------+-----------+\n",
      "|   cap1g|  departments|      false|\n",
      "|   cap1g|     dept_emp|      false|\n",
      "|   cap1g|dept_managers|      false|\n",
      "|   cap1g|    employees|      false|\n",
      "|   cap1g|     salaries|      false|\n",
      "|   cap1g|       titles|      false|\n",
      "+--------+-------------+-----------+\n",
      "\n"
     ]
    }
   ],
   "source": [
    "sparkSession.sql(\"show tables\").show()"
   ]
  },
  {
   "cell_type": "code",
   "execution_count": 8,
   "metadata": {},
   "outputs": [
    {
     "name": "stdout",
     "output_type": "stream",
     "text": [
      "+------+------------+----------+----------+---------+---+----------+--------------+-----------------------+-----+---------+-------+-----------------+------+----------------+--------------+\n",
      "|emp_no|emp_title_id|birth_date|first_name|last_name|sex| hire_date|no_of_projects|last_performance_rating|left_|last_date|dept_no|        dept_name|salary|           title|manager_emp_id|\n",
      "+------+------------+----------+----------+---------+---+----------+--------------+-----------------------+-----+---------+-------+-----------------+------+----------------+--------------+\n",
      "|   d005|    \"development\"| 40000|Technique Leader|        110511|\n",
      "|   d003|\"Human Resources\"| 40000|    Senior Staff|        110183|\n",
      "|   d005|    \"development\"| 60268| Senior Engineer|        110511|\n",
      "|   d007|          \"Sales\"| 54602|           Staff|        111035|\n",
      "+------+------------+----------+----------+---------+---+----------+--------------+-----------------------+-----+---------+-------+-----------------+------+----------------+--------------+\n",
      "only showing top 4 rows\n",
      "\n"
     ]
    }
   ],
   "source": [
    "sparkSession.sql('select c.*, a.dept_no, dept_name, salary,title, f.emp_no manager_emp_id from \\\n",
    "departments a inner join dept_emp b on a.dept_no = b.dept_no \\\n",
    "inner join employees c \\\n",
    "on b.emp_no = c.emp_no \\\n",
    "inner join salaries d \\\n",
    "on c.emp_no = d.emp_no \\\n",
    "inner join titles e \\\n",
    "on c.emp_title_id = e.title_id \\\n",
    "inner join dept_managers f \\\n",
    "on a.dept_no = f.dept_no' ).show(4)"
   ]
  },
  {
   "cell_type": "code",
   "execution_count": 9,
   "metadata": {},
   "outputs": [],
   "source": [
    "df = sparkSession.sql('select c.*, a.dept_no, dept_name, salary,title, f.emp_no manager_emp_id from \\\n",
    "departments a inner join dept_emp b on a.dept_no = b.dept_no \\\n",
    "inner join employees c \\\n",
    "on b.emp_no = c.emp_no \\\n",
    "inner join salaries d \\\n",
    "on c.emp_no = d.emp_no \\\n",
    "inner join titles e \\\n",
    "on c.emp_title_id = e.title_id \\\n",
    "inner join dept_managers f \\\n",
    "on a.dept_no = f.dept_no' )"
   ]
  },
  {
   "cell_type": "code",
   "execution_count": 10,
   "metadata": {},
   "outputs": [
    {
     "name": "stdout",
     "output_type": "stream",
     "text": [
      "+------+------------+----------+----------+---------+---+----------+--------------+-----------------------+-----+---------+-------+-----------------+------+----------------+--------------+\n",
      "|emp_no|emp_title_id|birth_date|first_name|last_name|sex| hire_date|no_of_projects|last_performance_rating|left_|last_date|dept_no|        dept_name|salary|           title|manager_emp_id|\n",
      "+------+------------+----------+----------+---------+---+----------+--------------+-----------------------+-----+---------+-------+-----------------+------+----------------+--------------+\n",
      "|   d005|    \"development\"| 40000|Technique Leader|        110511|\n",
      "|   d003|\"Human Resources\"| 40000|    Senior Staff|        110183|\n",
      "|   d005|    \"development\"| 60268| Senior Engineer|        110511|\n",
      "|   d007|          \"Sales\"| 54602|           Staff|        111035|\n",
      "+------+------------+----------+----------+---------+---+----------+--------------+-----------------------+-----+---------+-------+-----------------+------+----------------+--------------+\n",
      "only showing top 4 rows\n",
      "\n"
     ]
    }
   ],
   "source": [
    "df.show(4)"
   ]
  },
  {
   "cell_type": "markdown",
   "metadata": {},
   "source": [
    "### DATA VISUALISATION"
   ]
  },
  {
   "cell_type": "code",
   "execution_count": 12,
   "metadata": {},
   "outputs": [],
   "source": [
    "data2 = df.toPandas()"
   ]
  },
  {
   "cell_type": "code",
   "execution_count": 13,
   "metadata": {
    "scrolled": false
   },
   "outputs": [
    {
     "name": "stderr",
     "output_type": "stream",
     "text": [
      "<string>:6: RuntimeWarning: Converting input from bool to <class 'numpy.uint8'> for compatibility.\n"
     ]
    },
    {
     "data": {
      "text/plain": [
       "<seaborn.axisgrid.PairGrid at 0x7fe0d443e490>"
      ]
     },
     "execution_count": 13,
     "metadata": {},
     "output_type": "execute_result"
    },
    {
     "data": {
      "image/png": "[encoded data removed]",
      "text/plain": [
       "<Figure size 900x900 with 30 Axes>"
      ]
     },
     "metadata": {
      "needs_background": "light"
     },
     "output_type": "display_data"
    }
   ],
   "source": [
    "sns.pairplot(data= data2)"
   ]
  },
  {
   "cell_type": "markdown",
   "metadata": {},
   "source": [
    "### DATA PREPARATION"
   ]
  },
  {
   "cell_type": "code",
   "execution_count": 14,
   "metadata": {},
   "outputs": [
    {
     "data": {
      "text/html": [
       "<div>\n",
       "<style scoped>\n",
       "    .dataframe tbody tr th:only-of-type {\n",
       "        vertical-align: middle;\n",
       "    }\n",
       "\n",
       "    .dataframe tbody tr th {\n",
       "        vertical-align: top;\n",
       "    }\n",
       "\n",
       "    .dataframe thead th {\n",
       "        text-align: right;\n",
       "    }\n",
       "</style>\n",
       "<table border=\"1\" class=\"dataframe\">\n",
       "  <thead>\n",
       "    <tr style=\"text-align: right;\">\n",
       "      <th></th>\n",
       "      <th>emp_no</th>\n",
       "      <th>emp_title_id</th>\n",
       "      <th>birth_date</th>\n",
       "      <th>first_name</th>\n",
       "      <th>last_name</th>\n",
       "      <th>sex</th>\n",
       "      <th>hire_date</th>\n",
       "      <th>no_of_projects</th>\n",
       "      <th>last_performance_rating</th>\n",
       "      <th>left_</th>\n",
       "      <th>last_date</th>\n",
       "      <th>dept_no</th>\n",
       "      <th>dept_name</th>\n",
       "      <th>salary</th>\n",
       "      <th>title</th>\n",
       "      <th>manager_emp_id</th>\n",
       "    </tr>\n",
       "  </thead>\n",
       "  <tbody>\n",
       "    <tr>\n",
       "      <th>0</th>\n",
       "      <td>10206</td>\n",
       "      <td>e0004</td>\n",
       "      <td>9/19/1960</td>\n",
       "      <td>Alassane</td>\n",
       "      <td>Iwayama</td>\n",
       "      <td>F</td>\n",
       "      <td>4/19/1988</td>\n",
       "      <td>8</td>\n",
       "      <td>A</td>\n",
       "      <td>True</td>\n",
       "      <td>\\r</td>\n",
       "      <td>d005</td>\n",
       "      <td>\"development\"</td>\n",
       "      <td>40000</td>\n",
       "      <td>Technique Leader</td>\n",
       "      <td>110511</td>\n",
       "    </tr>\n",
       "    <tr>\n",
       "      <th>1</th>\n",
       "      <td>10362</td>\n",
       "      <td>s0002</td>\n",
       "      <td>9/16/1963</td>\n",
       "      <td>Shalesh</td>\n",
       "      <td>dAstous</td>\n",
       "      <td>M</td>\n",
       "      <td>8/24/1988</td>\n",
       "      <td>9</td>\n",
       "      <td>B</td>\n",
       "      <td>True</td>\n",
       "      <td>\\r</td>\n",
       "      <td>d003</td>\n",
       "      <td>\"Human Resources\"</td>\n",
       "      <td>40000</td>\n",
       "      <td>Senior Staff</td>\n",
       "      <td>110183</td>\n",
       "    </tr>\n",
       "    <tr>\n",
       "      <th>2</th>\n",
       "      <td>10623</td>\n",
       "      <td>e0003</td>\n",
       "      <td>7/11/1953</td>\n",
       "      <td>Aleksander</td>\n",
       "      <td>Danlos</td>\n",
       "      <td>F</td>\n",
       "      <td>3/7/1987</td>\n",
       "      <td>2</td>\n",
       "      <td>A</td>\n",
       "      <td>True</td>\n",
       "      <td>\\r</td>\n",
       "      <td>d005</td>\n",
       "      <td>\"development\"</td>\n",
       "      <td>60268</td>\n",
       "      <td>Senior Engineer</td>\n",
       "      <td>110511</td>\n",
       "    </tr>\n",
       "    <tr>\n",
       "      <th>3</th>\n",
       "      <td>10817</td>\n",
       "      <td>s0001</td>\n",
       "      <td>10/2/1958</td>\n",
       "      <td>Uri</td>\n",
       "      <td>Rullman</td>\n",
       "      <td>F</td>\n",
       "      <td>12/26/1990</td>\n",
       "      <td>6</td>\n",
       "      <td>C</td>\n",
       "      <td>True</td>\n",
       "      <td>\\r</td>\n",
       "      <td>d007</td>\n",
       "      <td>\"Sales\"</td>\n",
       "      <td>54602</td>\n",
       "      <td>Staff</td>\n",
       "      <td>111035</td>\n",
       "    </tr>\n",
       "    <tr>\n",
       "      <th>4</th>\n",
       "      <td>11033</td>\n",
       "      <td>e0003</td>\n",
       "      <td>3/1/1957</td>\n",
       "      <td>Shushma</td>\n",
       "      <td>Bahk</td>\n",
       "      <td>F</td>\n",
       "      <td>10/2/1990</td>\n",
       "      <td>4</td>\n",
       "      <td>C</td>\n",
       "      <td>True</td>\n",
       "      <td>\\r</td>\n",
       "      <td>d005</td>\n",
       "      <td>\"development\"</td>\n",
       "      <td>57239</td>\n",
       "      <td>Senior Engineer</td>\n",
       "      <td>110511</td>\n",
       "    </tr>\n",
       "    <tr>\n",
       "      <th>...</th>\n",
       "      <td>...</td>\n",
       "      <td>...</td>\n",
       "      <td>...</td>\n",
       "      <td>...</td>\n",
       "      <td>...</td>\n",
       "      <td>...</td>\n",
       "      <td>...</td>\n",
       "      <td>...</td>\n",
       "      <td>...</td>\n",
       "      <td>...</td>\n",
       "      <td>...</td>\n",
       "      <td>...</td>\n",
       "      <td>...</td>\n",
       "      <td>...</td>\n",
       "      <td>...</td>\n",
       "      <td>...</td>\n",
       "    </tr>\n",
       "    <tr>\n",
       "      <th>300019</th>\n",
       "      <td>499411</td>\n",
       "      <td>s0002</td>\n",
       "      <td>1/18/1960</td>\n",
       "      <td>Khoa</td>\n",
       "      <td>Thambidurai</td>\n",
       "      <td>M</td>\n",
       "      <td>10/17/1985</td>\n",
       "      <td>7</td>\n",
       "      <td>B</td>\n",
       "      <td>True</td>\n",
       "      <td>\\r</td>\n",
       "      <td>d003</td>\n",
       "      <td>\"Human Resources\"</td>\n",
       "      <td>40000</td>\n",
       "      <td>Senior Staff</td>\n",
       "      <td>110183</td>\n",
       "    </tr>\n",
       "    <tr>\n",
       "      <th>300020</th>\n",
       "      <td>499480</td>\n",
       "      <td>s0001</td>\n",
       "      <td>6/7/1958</td>\n",
       "      <td>Kankanahalli</td>\n",
       "      <td>Silva</td>\n",
       "      <td>M</td>\n",
       "      <td>6/30/1993</td>\n",
       "      <td>6</td>\n",
       "      <td>B</td>\n",
       "      <td>True</td>\n",
       "      <td>\\r</td>\n",
       "      <td>d007</td>\n",
       "      <td>\"Sales\"</td>\n",
       "      <td>65851</td>\n",
       "      <td>Staff</td>\n",
       "      <td>111035</td>\n",
       "    </tr>\n",
       "    <tr>\n",
       "      <th>300021</th>\n",
       "      <td>499564</td>\n",
       "      <td>s0001</td>\n",
       "      <td>10/16/1959</td>\n",
       "      <td>Haldun</td>\n",
       "      <td>Mullainathan</td>\n",
       "      <td>M</td>\n",
       "      <td>2/26/1991</td>\n",
       "      <td>2</td>\n",
       "      <td>A</td>\n",
       "      <td>True</td>\n",
       "      <td>\\r</td>\n",
       "      <td>d002</td>\n",
       "      <td>\"Finance\"</td>\n",
       "      <td>46399</td>\n",
       "      <td>Staff</td>\n",
       "      <td>110085</td>\n",
       "    </tr>\n",
       "    <tr>\n",
       "      <th>300022</th>\n",
       "      <td>499703</td>\n",
       "      <td>s0001</td>\n",
       "      <td>7/23/1956</td>\n",
       "      <td>Goa</td>\n",
       "      <td>Nitto</td>\n",
       "      <td>M</td>\n",
       "      <td>4/11/1986</td>\n",
       "      <td>8</td>\n",
       "      <td>B</td>\n",
       "      <td>True</td>\n",
       "      <td>\\r</td>\n",
       "      <td>d009</td>\n",
       "      <td>\"Customer Service\"</td>\n",
       "      <td>40000</td>\n",
       "      <td>Staff</td>\n",
       "      <td>111692</td>\n",
       "    </tr>\n",
       "    <tr>\n",
       "      <th>300023</th>\n",
       "      <td>499783</td>\n",
       "      <td>e0003</td>\n",
       "      <td>11/6/1959</td>\n",
       "      <td>Souichi</td>\n",
       "      <td>Demri</td>\n",
       "      <td>M</td>\n",
       "      <td>4/7/1988</td>\n",
       "      <td>1</td>\n",
       "      <td>B</td>\n",
       "      <td>True</td>\n",
       "      <td>\\r</td>\n",
       "      <td>d004</td>\n",
       "      <td>\"Production\"</td>\n",
       "      <td>77487</td>\n",
       "      <td>Senior Engineer</td>\n",
       "      <td>110303</td>\n",
       "    </tr>\n",
       "  </tbody>\n",
       "</table>\n",
       "<p>300024 rows × 16 columns</p>\n",
       "</div>"
      ],
      "text/plain": [
       "        emp_no emp_title_id  birth_date    first_name     last_name sex  \\\n",
       "0        10206        e0004   9/19/1960      Alassane       Iwayama   F   \n",
       "1        10362        s0002   9/16/1963       Shalesh       dAstous   M   \n",
       "2        10623        e0003   7/11/1953    Aleksander        Danlos   F   \n",
       "3        10817        s0001   10/2/1958           Uri       Rullman   F   \n",
       "4        11033        e0003    3/1/1957       Shushma          Bahk   F   \n",
       "...        ...          ...         ...           ...           ...  ..   \n",
       "300019  499411        s0002   1/18/1960          Khoa   Thambidurai   M   \n",
       "300020  499480        s0001    6/7/1958  Kankanahalli         Silva   M   \n",
       "300021  499564        s0001  10/16/1959        Haldun  Mullainathan   M   \n",
       "300022  499703        s0001   7/23/1956           Goa         Nitto   M   \n",
       "300023  499783        e0003   11/6/1959       Souichi         Demri   M   \n",
       "\n",
       "         hire_date  no_of_projects last_performance_rating  left_ last_date  \\\n",
       "0        4/19/1988               8                       A   True        \\r   \n",
       "1        8/24/1988               9                       B   True        \\r   \n",
       "2         3/7/1987               2                       A   True        \\r   \n",
       "3       12/26/1990               6                       C   True        \\r   \n",
       "4        10/2/1990               4                       C   True        \\r   \n",
       "...            ...             ...                     ...    ...       ...   \n",
       "300019  10/17/1985               7                       B   True        \\r   \n",
       "300020   6/30/1993               6                       B   True        \\r   \n",
       "300021   2/26/1991               2                       A   True        \\r   \n",
       "300022   4/11/1986               8                       B   True        \\r   \n",
       "300023    4/7/1988               1                       B   True        \\r   \n",
       "\n",
       "       dept_no           dept_name  salary             title  manager_emp_id  \n",
       "0         d005       \"development\"   40000  Technique Leader          110511  \n",
       "1         d003   \"Human Resources\"   40000      Senior Staff          110183  \n",
       "2         d005       \"development\"   60268   Senior Engineer          110511  \n",
       "3         d007             \"Sales\"   54602             Staff          111035  \n",
       "4         d005       \"development\"   57239   Senior Engineer          110511  \n",
       "...        ...                 ...     ...               ...             ...  \n",
       "300019    d003   \"Human Resources\"   40000      Senior Staff          110183  \n",
       "300020    d007             \"Sales\"   65851             Staff          111035  \n",
       "300021    d002           \"Finance\"   46399             Staff          110085  \n",
       "300022    d009  \"Customer Service\"   40000             Staff          111692  \n",
       "300023    d004        \"Production\"   77487   Senior Engineer          110303  \n",
       "\n",
       "[300024 rows x 16 columns]"
      ]
     },
     "execution_count": 14,
     "metadata": {},
     "output_type": "execute_result"
    }
   ],
   "source": [
    "data2"
   ]
  },
  {
   "cell_type": "code",
   "execution_count": 15,
   "metadata": {},
   "outputs": [
    {
     "data": {
      "text/plain": [
       "0"
      ]
     },
     "execution_count": 15,
     "metadata": {},
     "output_type": "execute_result"
    }
   ],
   "source": [
    "data2['left_'].isnull().sum()"
   ]
  },
  {
   "cell_type": "code",
   "execution_count": 16,
   "metadata": {
    "scrolled": true
   },
   "outputs": [
    {
     "data": {
      "text/plain": [
       "\\r             270157\n",
       "10/17/1998         15\n",
       "4/23/1997\\r        15\n",
       "6/19/1996\\r        15\n",
       "11/27/1997         14\n",
       "                ...  \n",
       "4/3/2004\\r          1\n",
       "3/13/1990\\r         1\n",
       "3/1/1987\\r          1\n",
       "2/21/2011\\r         1\n",
       "9/17/1995\\r         1\n",
       "Name: last_date, Length: 7583, dtype: int64"
      ]
     },
     "execution_count": 16,
     "metadata": {},
     "output_type": "execute_result"
    }
   ],
   "source": [
    "data2['last_date'].value_counts()"
   ]
  },
  {
   "cell_type": "code",
   "execution_count": 17,
   "metadata": {},
   "outputs": [],
   "source": [
    "#df['29'] = \n",
    "#data2['last_date'].str.strip(r'\\\\r')\n",
    "data2['last_date'] = data2['last_date'].replace({'\\r': ''})"
   ]
  },
  {
   "cell_type": "code",
   "execution_count": 18,
   "metadata": {},
   "outputs": [
    {
     "data": {
      "text/plain": [
       "               270157\n",
       "4/23/1997\\r        15\n",
       "6/19/1996\\r        15\n",
       "10/17/1998         15\n",
       "6/25/1998\\r        14\n",
       "                ...  \n",
       "7/12/1987\\r         1\n",
       "6/28/1990\\r         1\n",
       "7/18/1988\\r         1\n",
       "12/16/2008          1\n",
       "1/12/1990\\r         1\n",
       "Name: last_date, Length: 7583, dtype: int64"
      ]
     },
     "execution_count": 18,
     "metadata": {},
     "output_type": "execute_result"
    }
   ],
   "source": [
    "data2['last_date'].value_counts()"
   ]
  },
  {
   "cell_type": "code",
   "execution_count": 19,
   "metadata": {},
   "outputs": [],
   "source": [
    "lis = []\n",
    "for i in data2['last_date']:\n",
    "    if i =='':\n",
    "        lis.append(False)\n",
    "    else:\n",
    "        lis.append(True)"
   ]
  },
  {
   "cell_type": "code",
   "execution_count": 20,
   "metadata": {},
   "outputs": [],
   "source": [
    "data2['left_'] = lis"
   ]
  },
  {
   "cell_type": "code",
   "execution_count": 21,
   "metadata": {},
   "outputs": [
    {
     "data": {
      "text/plain": [
       "False    270157\n",
       "True      29867\n",
       "Name: left_, dtype: int64"
      ]
     },
     "execution_count": 21,
     "metadata": {},
     "output_type": "execute_result"
    }
   ],
   "source": [
    "data2['left_'].value_counts()"
   ]
  },
  {
   "cell_type": "code",
   "execution_count": 22,
   "metadata": {},
   "outputs": [
    {
     "data": {
      "text/plain": [
       "(300024, 16)"
      ]
     },
     "execution_count": 22,
     "metadata": {},
     "output_type": "execute_result"
    }
   ],
   "source": [
    "data2.shape"
   ]
  },
  {
   "cell_type": "code",
   "execution_count": 23,
   "metadata": {},
   "outputs": [
    {
     "data": {
      "text/html": [
       "<div>\n",
       "<style scoped>\n",
       "    .dataframe tbody tr th:only-of-type {\n",
       "        vertical-align: middle;\n",
       "    }\n",
       "\n",
       "    .dataframe tbody tr th {\n",
       "        vertical-align: top;\n",
       "    }\n",
       "\n",
       "    .dataframe thead th {\n",
       "        text-align: right;\n",
       "    }\n",
       "</style>\n",
       "<table border=\"1\" class=\"dataframe\">\n",
       "  <thead>\n",
       "    <tr style=\"text-align: right;\">\n",
       "      <th></th>\n",
       "      <th>emp_no</th>\n",
       "      <th>emp_title_id</th>\n",
       "      <th>birth_date</th>\n",
       "      <th>first_name</th>\n",
       "      <th>last_name</th>\n",
       "      <th>sex</th>\n",
       "      <th>hire_date</th>\n",
       "      <th>no_of_projects</th>\n",
       "      <th>last_performance_rating</th>\n",
       "      <th>left_</th>\n",
       "      <th>last_date</th>\n",
       "      <th>dept_no</th>\n",
       "      <th>dept_name</th>\n",
       "      <th>salary</th>\n",
       "      <th>title</th>\n",
       "      <th>manager_emp_id</th>\n",
       "    </tr>\n",
       "  </thead>\n",
       "  <tbody>\n",
       "    <tr>\n",
       "      <th>0</th>\n",
       "      <td>10206</td>\n",
       "      <td>e0004</td>\n",
       "      <td>9/19/1960</td>\n",
       "      <td>Alassane</td>\n",
       "      <td>Iwayama</td>\n",
       "      <td>F</td>\n",
       "      <td>4/19/1988</td>\n",
       "      <td>8</td>\n",
       "      <td>A</td>\n",
       "      <td>False</td>\n",
       "      <td></td>\n",
       "      <td>d005</td>\n",
       "      <td>\"development\"</td>\n",
       "      <td>40000</td>\n",
       "      <td>Technique Leader</td>\n",
       "      <td>110511</td>\n",
       "    </tr>\n",
       "    <tr>\n",
       "      <th>1</th>\n",
       "      <td>10362</td>\n",
       "      <td>s0002</td>\n",
       "      <td>9/16/1963</td>\n",
       "      <td>Shalesh</td>\n",
       "      <td>dAstous</td>\n",
       "      <td>M</td>\n",
       "      <td>8/24/1988</td>\n",
       "      <td>9</td>\n",
       "      <td>B</td>\n",
       "      <td>False</td>\n",
       "      <td></td>\n",
       "      <td>d003</td>\n",
       "      <td>\"Human Resources\"</td>\n",
       "      <td>40000</td>\n",
       "      <td>Senior Staff</td>\n",
       "      <td>110183</td>\n",
       "    </tr>\n",
       "    <tr>\n",
       "      <th>2</th>\n",
       "      <td>10623</td>\n",
       "      <td>e0003</td>\n",
       "      <td>7/11/1953</td>\n",
       "      <td>Aleksander</td>\n",
       "      <td>Danlos</td>\n",
       "      <td>F</td>\n",
       "      <td>3/7/1987</td>\n",
       "      <td>2</td>\n",
       "      <td>A</td>\n",
       "      <td>False</td>\n",
       "      <td></td>\n",
       "      <td>d005</td>\n",
       "      <td>\"development\"</td>\n",
       "      <td>60268</td>\n",
       "      <td>Senior Engineer</td>\n",
       "      <td>110511</td>\n",
       "    </tr>\n",
       "    <tr>\n",
       "      <th>3</th>\n",
       "      <td>10817</td>\n",
       "      <td>s0001</td>\n",
       "      <td>10/2/1958</td>\n",
       "      <td>Uri</td>\n",
       "      <td>Rullman</td>\n",
       "      <td>F</td>\n",
       "      <td>12/26/1990</td>\n",
       "      <td>6</td>\n",
       "      <td>C</td>\n",
       "      <td>False</td>\n",
       "      <td></td>\n",
       "      <td>d007</td>\n",
       "      <td>\"Sales\"</td>\n",
       "      <td>54602</td>\n",
       "      <td>Staff</td>\n",
       "      <td>111035</td>\n",
       "    </tr>\n",
       "    <tr>\n",
       "      <th>4</th>\n",
       "      <td>11033</td>\n",
       "      <td>e0003</td>\n",
       "      <td>3/1/1957</td>\n",
       "      <td>Shushma</td>\n",
       "      <td>Bahk</td>\n",
       "      <td>F</td>\n",
       "      <td>10/2/1990</td>\n",
       "      <td>4</td>\n",
       "      <td>C</td>\n",
       "      <td>False</td>\n",
       "      <td></td>\n",
       "      <td>d005</td>\n",
       "      <td>\"development\"</td>\n",
       "      <td>57239</td>\n",
       "      <td>Senior Engineer</td>\n",
       "      <td>110511</td>\n",
       "    </tr>\n",
       "    <tr>\n",
       "      <th>...</th>\n",
       "      <td>...</td>\n",
       "      <td>...</td>\n",
       "      <td>...</td>\n",
       "      <td>...</td>\n",
       "      <td>...</td>\n",
       "      <td>...</td>\n",
       "      <td>...</td>\n",
       "      <td>...</td>\n",
       "      <td>...</td>\n",
       "      <td>...</td>\n",
       "      <td>...</td>\n",
       "      <td>...</td>\n",
       "      <td>...</td>\n",
       "      <td>...</td>\n",
       "      <td>...</td>\n",
       "      <td>...</td>\n",
       "    </tr>\n",
       "    <tr>\n",
       "      <th>300019</th>\n",
       "      <td>499411</td>\n",
       "      <td>s0002</td>\n",
       "      <td>1/18/1960</td>\n",
       "      <td>Khoa</td>\n",
       "      <td>Thambidurai</td>\n",
       "      <td>M</td>\n",
       "      <td>10/17/1985</td>\n",
       "      <td>7</td>\n",
       "      <td>B</td>\n",
       "      <td>False</td>\n",
       "      <td></td>\n",
       "      <td>d003</td>\n",
       "      <td>\"Human Resources\"</td>\n",
       "      <td>40000</td>\n",
       "      <td>Senior Staff</td>\n",
       "      <td>110183</td>\n",
       "    </tr>\n",
       "    <tr>\n",
       "      <th>300020</th>\n",
       "      <td>499480</td>\n",
       "      <td>s0001</td>\n",
       "      <td>6/7/1958</td>\n",
       "      <td>Kankanahalli</td>\n",
       "      <td>Silva</td>\n",
       "      <td>M</td>\n",
       "      <td>6/30/1993</td>\n",
       "      <td>6</td>\n",
       "      <td>B</td>\n",
       "      <td>False</td>\n",
       "      <td></td>\n",
       "      <td>d007</td>\n",
       "      <td>\"Sales\"</td>\n",
       "      <td>65851</td>\n",
       "      <td>Staff</td>\n",
       "      <td>111035</td>\n",
       "    </tr>\n",
       "    <tr>\n",
       "      <th>300021</th>\n",
       "      <td>499564</td>\n",
       "      <td>s0001</td>\n",
       "      <td>10/16/1959</td>\n",
       "      <td>Haldun</td>\n",
       "      <td>Mullainathan</td>\n",
       "      <td>M</td>\n",
       "      <td>2/26/1991</td>\n",
       "      <td>2</td>\n",
       "      <td>A</td>\n",
       "      <td>False</td>\n",
       "      <td></td>\n",
       "      <td>d002</td>\n",
       "      <td>\"Finance\"</td>\n",
       "      <td>46399</td>\n",
       "      <td>Staff</td>\n",
       "      <td>110085</td>\n",
       "    </tr>\n",
       "    <tr>\n",
       "      <th>300022</th>\n",
       "      <td>499703</td>\n",
       "      <td>s0001</td>\n",
       "      <td>7/23/1956</td>\n",
       "      <td>Goa</td>\n",
       "      <td>Nitto</td>\n",
       "      <td>M</td>\n",
       "      <td>4/11/1986</td>\n",
       "      <td>8</td>\n",
       "      <td>B</td>\n",
       "      <td>False</td>\n",
       "      <td></td>\n",
       "      <td>d009</td>\n",
       "      <td>\"Customer Service\"</td>\n",
       "      <td>40000</td>\n",
       "      <td>Staff</td>\n",
       "      <td>111692</td>\n",
       "    </tr>\n",
       "    <tr>\n",
       "      <th>300023</th>\n",
       "      <td>499783</td>\n",
       "      <td>e0003</td>\n",
       "      <td>11/6/1959</td>\n",
       "      <td>Souichi</td>\n",
       "      <td>Demri</td>\n",
       "      <td>M</td>\n",
       "      <td>4/7/1988</td>\n",
       "      <td>1</td>\n",
       "      <td>B</td>\n",
       "      <td>False</td>\n",
       "      <td></td>\n",
       "      <td>d004</td>\n",
       "      <td>\"Production\"</td>\n",
       "      <td>77487</td>\n",
       "      <td>Senior Engineer</td>\n",
       "      <td>110303</td>\n",
       "    </tr>\n",
       "  </tbody>\n",
       "</table>\n",
       "<p>300024 rows × 16 columns</p>\n",
       "</div>"
      ],
      "text/plain": [
       "        emp_no emp_title_id  birth_date    first_name     last_name sex  \\\n",
       "0        10206        e0004   9/19/1960      Alassane       Iwayama   F   \n",
       "1        10362        s0002   9/16/1963       Shalesh       dAstous   M   \n",
       "2        10623        e0003   7/11/1953    Aleksander        Danlos   F   \n",
       "3        10817        s0001   10/2/1958           Uri       Rullman   F   \n",
       "4        11033        e0003    3/1/1957       Shushma          Bahk   F   \n",
       "...        ...          ...         ...           ...           ...  ..   \n",
       "300019  499411        s0002   1/18/1960          Khoa   Thambidurai   M   \n",
       "300020  499480        s0001    6/7/1958  Kankanahalli         Silva   M   \n",
       "300021  499564        s0001  10/16/1959        Haldun  Mullainathan   M   \n",
       "300022  499703        s0001   7/23/1956           Goa         Nitto   M   \n",
       "300023  499783        e0003   11/6/1959       Souichi         Demri   M   \n",
       "\n",
       "         hire_date  no_of_projects last_performance_rating  left_ last_date  \\\n",
       "0        4/19/1988               8                       A  False             \n",
       "1        8/24/1988               9                       B  False             \n",
       "2         3/7/1987               2                       A  False             \n",
       "3       12/26/1990               6                       C  False             \n",
       "4        10/2/1990               4                       C  False             \n",
       "...            ...             ...                     ...    ...       ...   \n",
       "300019  10/17/1985               7                       B  False             \n",
       "300020   6/30/1993               6                       B  False             \n",
       "300021   2/26/1991               2                       A  False             \n",
       "300022   4/11/1986               8                       B  False             \n",
       "300023    4/7/1988               1                       B  False             \n",
       "\n",
       "       dept_no           dept_name  salary             title  manager_emp_id  \n",
       "0         d005       \"development\"   40000  Technique Leader          110511  \n",
       "1         d003   \"Human Resources\"   40000      Senior Staff          110183  \n",
       "2         d005       \"development\"   60268   Senior Engineer          110511  \n",
       "3         d007             \"Sales\"   54602             Staff          111035  \n",
       "4         d005       \"development\"   57239   Senior Engineer          110511  \n",
       "...        ...                 ...     ...               ...             ...  \n",
       "300019    d003   \"Human Resources\"   40000      Senior Staff          110183  \n",
       "300020    d007             \"Sales\"   65851             Staff          111035  \n",
       "300021    d002           \"Finance\"   46399             Staff          110085  \n",
       "300022    d009  \"Customer Service\"   40000             Staff          111692  \n",
       "300023    d004        \"Production\"   77487   Senior Engineer          110303  \n",
       "\n",
       "[300024 rows x 16 columns]"
      ]
     },
     "execution_count": 23,
     "metadata": {},
     "output_type": "execute_result"
    }
   ],
   "source": [
    "data2"
   ]
  },
  {
   "cell_type": "code",
   "execution_count": 34,
   "metadata": {},
   "outputs": [],
   "source": [
    "df1 = data2.dropna()"
   ]
  },
  {
   "cell_type": "code",
   "execution_count": 36,
   "metadata": {},
   "outputs": [
    {
     "data": {
      "text/plain": [
       "((300024, 16), (300024, 16))"
      ]
     },
     "execution_count": 36,
     "metadata": {},
     "output_type": "execute_result"
    }
   ],
   "source": [
    "df1.shape, data2.shape"
   ]
  },
  {
   "cell_type": "code",
   "execution_count": 44,
   "metadata": {},
   "outputs": [],
   "source": [
    "df2 = spark.createDataFrame(df1)"
   ]
  },
  {
   "cell_type": "code",
   "execution_count": null,
   "metadata": {},
   "outputs": [],
   "source": []
  },
  {
   "cell_type": "markdown",
   "metadata": {},
   "source": [
    "#### ENCODING"
   ]
  },
  {
   "cell_type": "code",
   "execution_count": 62,
   "metadata": {},
   "outputs": [],
   "source": [
    "#Which are categorical and which are continuous features?\n",
    "cat_features = ['sex','last_performance_rating', 'dept_no']\n",
    "\n",
    "continuous_features = ['no_of_projects', 'salary']"
   ]
  },
  {
   "cell_type": "code",
   "execution_count": 71,
   "metadata": {},
   "outputs": [],
   "source": [
    "def create_category_vars( dataset, field_name ):\n",
    "    idx_col = field_name + \"Index\"\n",
    "    col_vec = field_name + \"Vec\"\n",
    "\n",
    "    month_stringIndexer = StringIndexer( inputCol=field_name, outputCol=idx_col )\n",
    "\n",
    "    month_model = month_stringIndexer.fit( dataset )\n",
    "    month_indexed = month_model.transform( dataset )\n",
    "\n",
    "    month_encoder = OneHotEncoder( dropLast=True, inputCol=idx_col,outputCol= col_vec )\n",
    "    \n",
    "    return month_encoder.transform( month_indexed )"
   ]
  },
  {
   "cell_type": "code",
   "execution_count": 74,
   "metadata": {},
   "outputs": [],
   "source": [
    "for  col in  cat_features:\n",
    "    df2 = create_category_vars( df2, col )\n",
    "    df2.cache()"
   ]
  },
  {
   "cell_type": "code",
   "execution_count": null,
   "metadata": {},
   "outputs": [],
   "source": [
    "   "
   ]
  },
  {
   "cell_type": "code",
   "execution_count": 75,
   "metadata": {},
   "outputs": [
    {
     "data": {
      "text/plain": [
       "['emp_no',\n",
       " 'emp_title_id',\n",
       " 'birth_date',\n",
       " 'first_name',\n",
       " 'last_name',\n",
       " 'sex',\n",
       " 'hire_date',\n",
       " 'no_of_projects',\n",
       " 'last_performance_rating',\n",
       " 'left_',\n",
       " 'last_date',\n",
       " 'dept_no',\n",
       " 'dept_name',\n",
       " 'salary',\n",
       " 'title',\n",
       " 'manager_emp_id',\n",
       " 'sexIndex',\n",
       " 'sexVec',\n",
       " 'last_performance_ratingIndex',\n",
       " 'last_performance_ratingVec',\n",
       " 'dept_noIndex',\n",
       " 'dept_noVec']"
      ]
     },
     "execution_count": 75,
     "metadata": {},
     "output_type": "execute_result"
    }
   ],
   "source": [
    "df2.columns"
   ]
  },
  {
   "cell_type": "code",
   "execution_count": 76,
   "metadata": {},
   "outputs": [],
   "source": [
    "cat_vecs = [ \"\".join( (cat, \"Vec\") ) for cat in cat_features ]"
   ]
  },
  {
   "cell_type": "code",
   "execution_count": 77,
   "metadata": {},
   "outputs": [],
   "source": [
    "#Including all features for model building\n",
    "\n",
    "all_features = continuous_features + cat_vecs"
   ]
  },
  {
   "cell_type": "markdown",
   "metadata": {},
   "source": [
    "#### ASSEMBLING"
   ]
  },
  {
   "cell_type": "code",
   "execution_count": 78,
   "metadata": {},
   "outputs": [],
   "source": [
    "# Creating the vector of all predictors\n",
    "assembler = VectorAssembler( inputCols = all_features, outputCol = \"features\")"
   ]
  },
  {
   "cell_type": "code",
   "execution_count": 79,
   "metadata": {},
   "outputs": [],
   "source": [
    "df = assembler.transform(df2)"
   ]
  },
  {
   "cell_type": "code",
   "execution_count": 80,
   "metadata": {},
   "outputs": [
    {
     "data": {
      "text/plain": [
       "DataFrame[emp_no: bigint, emp_title_id: string, birth_date: string, first_name: string, last_name: string, sex: string, hire_date: string, no_of_projects: bigint, last_performance_rating: string, left_: boolean, last_date: string, dept_no: string, dept_name: string, salary: bigint, title: string, manager_emp_id: bigint, sexIndex: double, sexVec: vector, last_performance_ratingIndex: double, last_performance_ratingVec: vector, dept_noIndex: double, dept_noVec: vector, features: vector]"
      ]
     },
     "execution_count": 80,
     "metadata": {},
     "output_type": "execute_result"
    }
   ],
   "source": [
    "df"
   ]
  },
  {
   "cell_type": "markdown",
   "metadata": {},
   "source": [
    "##### Setting the target variables - left_"
   ]
  },
  {
   "cell_type": "code",
   "execution_count": 89,
   "metadata": {},
   "outputs": [],
   "source": [
    "df = df.withColumn('label',F.when(df.left_ == 'true', 1)\n",
    "                                   .otherwise(0)\n",
    ")"
   ]
  },
  {
   "cell_type": "code",
   "execution_count": 90,
   "metadata": {},
   "outputs": [
    {
     "name": "stdout",
     "output_type": "stream",
     "text": [
      "+--------------------+-----+\n",
      "|            features|label|\n",
      "+--------------------+-----+\n",
      "|(15,[0,1,4,7],[8....|    0|\n",
      "|(15,[0,1,2,3,12],...|    0|\n",
      "|(15,[0,1,4,7],[2....|    0|\n",
      "|(15,[0,1,5,9],[6....|    0|\n",
      "|(15,[0,1,5,7],[4....|    0|\n",
      "+--------------------+-----+\n",
      "only showing top 5 rows\n",
      "\n"
     ]
    }
   ],
   "source": [
    "df.select( \"features\", \"label\" ).show( 5 )"
   ]
  },
  {
   "cell_type": "markdown",
   "metadata": {},
   "source": [
    "### TRAIN TEST SPLIT"
   ]
  },
  {
   "cell_type": "code",
   "execution_count": 91,
   "metadata": {},
   "outputs": [],
   "source": [
    "train_df, test_df = df.randomSplit( [0.7, 0.3], seed = 42 )"
   ]
  },
  {
   "cell_type": "markdown",
   "metadata": {},
   "source": [
    "### MODEL BUILDING"
   ]
  },
  {
   "cell_type": "markdown",
   "metadata": {},
   "source": [
    "###### RANDOM FORST"
   ]
  },
  {
   "cell_type": "code",
   "execution_count": 135,
   "metadata": {},
   "outputs": [],
   "source": [
    "rfm = RandomForestClassifier(featuresCol=\"features\",\n",
    "                              labelCol=\"label\",\n",
    "                              numTrees=50,\n",
    "                              maxDepth=5,\n",
    "                              featureSubsetStrategy='onethird')\n",
    "rfm = rfm.fit( train_df )"
   ]
  },
  {
   "cell_type": "code",
   "execution_count": 136,
   "metadata": {},
   "outputs": [
    {
     "name": "stdout",
     "output_type": "stream",
     "text": [
      "+------+------------+----------+-----------+----------+---+----------+--------------+-----------------------+-----+----------+-------+--------------------+------+----------------+--------------+--------+-------------+----------------------------+--------------------------+------------+-------------+--------------------+-----+--------------------+--------------------+----------+\n",
      "|emp_no|emp_title_id|birth_date| first_name| last_name|sex| hire_date|no_of_projects|last_performance_rating|left_| last_date|dept_no|           dept_name|salary|           title|manager_emp_id|sexIndex|       sexVec|last_performance_ratingIndex|last_performance_ratingVec|dept_noIndex|   dept_noVec|            features|label|       rawPrediction|         probability|prediction|\n",
      "+------+------------+----------+-----------+----------+---+----------+--------------+-----------------------+-----+----------+-------+--------------------+------+----------------+--------------+--------+-------------+----------------------------+--------------------------+------------+-------------+--------------------+-----+--------------------+--------------------+----------+\n",
      "| 10002|       s0001|  6/2/1964|    Bezalel|    Simmel|  F|11/21/1985|             8|                      B|false|          |   d007|             \"Sales\"| 65828|           Staff|        111035|     1.0|    (1,[],[])|                         0.0|             (4,[0],[1.0])|         2.0|(8,[2],[1.0])|(15,[0,1,3,9],[8....|    0|[45.0263293530201...|[0.90052658706040...|       0.0|\n",
      "| 10003|       e0003| 12/3/1959|      Parto|   Bamford|  M| 8/28/1986|             1|                      C|false|          |   d004|        \"Production\"| 40006| Senior Engineer|        110303|     0.0|(1,[0],[1.0])|                         2.0|             (4,[2],[1.0])|         1.0|(8,[1],[1.0])|(15,[0,1,2,5,8],[...|    0|[44.9643835396430...|[0.89928767079286...|       0.0|\n",
      "| 10006|       e0003| 4/20/1953|     Anneke|   Preusig|  F|  6/2/1989|            10|                      B|false|          |   d005|       \"development\"| 40000| Senior Engineer|        110511|     1.0|    (1,[],[])|                         0.0|             (4,[0],[1.0])|         0.0|(8,[0],[1.0])|(15,[0,1,3,7],[10...|    0|[44.9703860276737...|[0.89940772055347...|       0.0|\n",
      "| 10018|       e0003| 6/19/1954|   Kazuhide|      Peha|  F|  4/3/1987|             4|                      B|false|          |   d004|        \"Production\"| 55881| Senior Engineer|        110303|     1.0|    (1,[],[])|                         0.0|             (4,[0],[1.0])|         1.0|(8,[1],[1.0])|(15,[0,1,3,8],[4....|    0|[45.0097660483809...|[0.90019532096761...|       0.0|\n",
      "|   d005|       \"development\"| 40000|        Engineer|        110511|     0.0|(1,[0],[1.0])|                         0.0|             (4,[0],[1.0])|         0.0|(8,[0],[1.0])|(15,[0,1,2,3,7],[...|    1|[44.9640691442769...|[0.89928138288553...|       0.0|\n",
      "| 10044|       e0004| 9/21/1961|    Mingsen|    Casley|  F| 5/21/1994|             1|                      C|false|          |   d004|        \"Production\"| 40919|Technique Leader|        110303|     1.0|    (1,[],[])|                         2.0|             (4,[2],[1.0])|         1.0|(8,[1],[1.0])|(15,[0,1,5,8],[1....|    0|[45.0010257326527...|[0.90002051465305...|       0.0|\n",
      "| 10046|       s0001| 7/23/1960|     Lucien| Rosenbaum|  M| 6/20/1992|             1|                      B|false|          |   d008|          \"Research\"| 40000|           Staff|        111400|     0.0|(1,[0],[1.0])|                         0.0|             (4,[0],[1.0])|         7.0|(8,[7],[1.0])|(15,[0,1,2,3,14],...|    0|[44.9655057785216...|[0.89931011557043...|       0.0|\n",
      "| 10049|       s0001| 4/24/1961|      Basil|    Tramer|  F|  5/4/1992|             3|                      B|false|          |   d009|  \"Customer Service\"| 40000|           Staff|        111692|     1.0|    (1,[],[])|                         0.0|             (4,[0],[1.0])|         6.0|(8,[6],[1.0])|(15,[0,1,3,13],[3...|    0|[44.9768058803836...|[0.89953611760767...|       0.0|\n",
      "| 10058|       s0002| 10/1/1954|    Berhard|  McFarlin|  M| 4/13/1987|             7|                      A|false|          |   d001|         \"Marketing\"| 52787|    Senior Staff|        110022|     0.0|(1,[0],[1.0])|                         1.0|             (4,[1],[1.0])|         3.0|(8,[3],[1.0])|(15,[0,1,2,4,10],...|    0|[45.0100308361384...|[0.90020061672276...|       0.0|\n",
      "| 10061|       s0002|10/19/1962|        Tse|    Herber|  M| 9/17/1985|             1|                      B|false|          |   d007|             \"Sales\"| 68577|    Senior Staff|        111035|     0.0|(1,[0],[1.0])|                         0.0|             (4,[0],[1.0])|         2.0|(8,[2],[1.0])|(15,[0,1,2,3,9],[...|    0|[45.0265542177611...|[0.90053108435522...|       0.0|\n",
      "| 10096|       e0002| 9/16/1954|     Jayson|   Mandell|  M| 1/14/1990|             1|                      S|false|          |   d004|        \"Production\"| 61395|        Engineer|        110303|     0.0|(1,[0],[1.0])|                         4.0|                 (4,[],[])|         1.0|(8,[1],[1.0])|(15,[0,1,2,8],[1....|    0|[45.0147175929648...|[0.90029435185929...|       0.0|\n",
      "| 10098|       e0003| 9/23/1961|Sreekrishna| Servieres|  F| 5/13/1985|             4|                      A|false|          |   d004|        \"Production\"| 40000| Senior Engineer|        110303|     1.0|    (1,[],[])|                         1.0|             (4,[1],[1.0])|         1.0|(8,[1],[1.0])|(15,[0,1,4,8],[4....|    0|[44.9789518314344...|[0.89957903662868...|       0.0|\n",
      "| 10100|       s0001| 4/21/1953|   Hironobu| Haraldson|  F| 9/21/1987|             6|                      B|false|          |   d003|   \"Human Resources\"| 54398|           Staff|        110183|     1.0|    (1,[],[])|                         0.0|             (4,[0],[1.0])|         5.0|(8,[5],[1.0])|(15,[0,1,3,12],[6...|    0|[45.0205629230090...|[0.90041125846018...|       0.0|\n",
      "| 10104|       s0002|11/19/1961|      Xinyu|   Warwick|  M| 4/16/1987|             5|                      B|false|          |   d008|          \"Research\"| 45312|    Senior Staff|        111400|     0.0|(1,[0],[1.0])|                         0.0|             (4,[0],[1.0])|         7.0|(8,[7],[1.0])|(15,[0,1,2,3,14],...|    0|[44.9956974585495...|[0.89991394917099...|       0.0|\n",
      "| 10109|       e0003|11/25/1958|    Mariusz|Prampolini|  F| 6/16/1993|             7|                      A|false|          |   d004|        \"Production\"| 40000| Senior Engineer|        110303|     1.0|    (1,[],[])|                         1.0|             (4,[1],[1.0])|         1.0|(8,[1],[1.0])|(15,[0,1,4,8],[7....|    0|[44.9789518314344...|[0.89957903662868...|       0.0|\n",
      "| 10115|       s0001|12/25/1964|    Chikara|  Rissland|  M| 1/23/1986|             1|                      A|false|          |   d009|  \"Customer Service\"| 40000|           Staff|        111692|     0.0|(1,[0],[1.0])|                         1.0|             (4,[1],[1.0])|         6.0|(8,[6],[1.0])|(15,[0,1,2,4,13],...|    0|[44.9687238535594...|[0.89937447707118...|       0.0|\n",
      "| 10117|       e0003|10/24/1961|  Kiyotoshi|  Blokdijk|  F| 5/28/1990|             6|                      A|false|          |   d004|        \"Production\"| 52284| Senior Engineer|        110303|     1.0|    (1,[],[])|                         1.0|             (4,[1],[1.0])|         1.0|(8,[1],[1.0])|(15,[0,1,4,8],[6....|    0|[44.9970226216443...|[0.89994045243288...|       0.0|\n",
      "| 10122|       e0004| 1/19/1965|       Ohad|  Esposito|  M|12/23/1992|             6|                      A|false|          |   d005|       \"development\"| 42284|Technique Leader|        110511|     0.0|(1,[0],[1.0])|                         1.0|             (4,[1],[1.0])|         0.0|(8,[0],[1.0])|(15,[0,1,2,4,7],[...|    0|[44.9927851488457...|[0.89985570297691...|       0.0|\n",
      "| 10138|       e0003| 4/24/1955|      Perry| Shimshoni|  M| 9/18/1986|             5|                      C|false|          |   d006|\"Quality Management\"| 53574| Senior Engineer|        110725|     0.0|(1,[0],[1.0])|                         2.0|             (4,[2],[1.0])|         8.0|    (8,[],[])|(15,[0,1,2,5],[5....|    0|[45.0010899368654...|[0.90002179873730...|       0.0|\n",
      "| 10155|       s0001| 12/7/1959|       Adas| Nastansky|  M|  1/5/1990|             7|                    PIP|false|          |   d004|        \"Production\"| 40040|           Staff|        110303|     0.0|(1,[0],[1.0])|                         3.0|             (4,[3],[1.0])|         1.0|(8,[1],[1.0])|(15,[0,1,2,6,8],[...|    0|[45.0894250663086...|[0.90178850132617...|       0.0|\n",
      "+------+------------+----------+-----------+----------+---+----------+--------------+-----------------------+-----+----------+-------+--------------------+------+----------------+--------------+--------+-------------+----------------------------+--------------------------+------------+-------------+--------------------+-----+--------------------+--------------------+----------+\n",
      "only showing top 20 rows\n",
      "\n"
     ]
    }
   ],
   "source": [
    "pred = rfm.transform(test_df)\n",
    "pred.show()"
   ]
  },
  {
   "cell_type": "code",
   "execution_count": 137,
   "metadata": {},
   "outputs": [],
   "source": [
    "def train(train, test, classifier):\n",
    "    # (train, test) = df.randomSplit([.7,.3])\n",
    "    print(classifier)\n",
    "    model = classifier.fit(train)\n",
    "    pred = model.transform(test)\n",
    "\n",
    "    eval_accuracy = (MulticlassClassificationEvaluator\n",
    "        (labelCol=\"label\", predictionCol=\"prediction\", metricName=\"accuracy\"))\n",
    "  \n",
    "    eval_precision = (MulticlassClassificationEvaluator\n",
    "        (labelCol=\"label\", predictionCol=\"prediction\", metricName=\"weightedPrecision\"))\n",
    "  \n",
    "    eval_recall = (MulticlassClassificationEvaluator\n",
    "        (labelCol=\"label\", predictionCol=\"prediction\", metricName=\"weightedRecall\"))\n",
    "  \n",
    "    eval_f1 = (MulticlassClassificationEvaluator\n",
    "        (labelCol=\"label\", predictionCol=\"prediction\", metricName=\"f1\"))\n",
    "\n",
    "    accuracy = eval_accuracy.evaluate(pred)\n",
    "\n",
    "    precision =  eval_precision.evaluate(pred)\n",
    "\n",
    "    recall =  eval_recall.evaluate(pred)\n",
    "\n",
    "    f1 =  eval_f1.evaluate(pred)\n",
    "\n",
    "    print(f\"\"\"\n",
    "    Accuracy  = {accuracy}\n",
    "    Error     = {1-accuracy}\n",
    "    Precision = {precision}\n",
    "    Recall    = {recall}\n",
    "    F1        = {f1}\"\"\")\n",
    "\n",
    "    return model, pred"
   ]
  },
  {
   "cell_type": "code",
   "execution_count": 115,
   "metadata": {},
   "outputs": [
    {
     "name": "stdout",
     "output_type": "stream",
     "text": [
      "RandomForestClassifier_1604f92700ec\n",
      "\n",
      "    Accuracy  = 0.9017553636110337\n",
      "    Error     = 0.0982446363889663\n",
      "    Precision = 0.8131627358012676\n",
      "    Recall    = 0.9017553636110337\n",
      "    F1        = 0.8551707031941715\n",
      "+----------+-----+--------------------+\n",
      "|prediction|label|            features|\n",
      "+----------+-----+--------------------+\n",
      "|       0.0|    0|(15,[0,1,3,9],[8....|\n",
      "|       0.0|    0|(15,[0,1,2,5,8],[...|\n",
      "|       0.0|    0|(15,[0,1,3,7],[10...|\n",
      "|       0.0|    0|(15,[0,1,3,8],[4....|\n",
      "|       0.0|    1|(15,[0,1,2,3,7],[...|\n",
      "|       0.0|    0|(15,[0,1,5,8],[1....|\n",
      "|       0.0|    0|(15,[0,1,2,3,14],...|\n",
      "|       0.0|    0|(15,[0,1,3,13],[3...|\n",
      "|       0.0|    0|(15,[0,1,2,4,10],...|\n",
      "|       0.0|    0|(15,[0,1,2,3,9],[...|\n",
      "|       0.0|    0|(15,[0,1,2,8],[1....|\n",
      "|       0.0|    0|(15,[0,1,4,8],[4....|\n",
      "|       0.0|    0|(15,[0,1,3,12],[6...|\n",
      "|       0.0|    0|(15,[0,1,2,3,14],...|\n",
      "|       0.0|    0|(15,[0,1,4,8],[7....|\n",
      "|       0.0|    0|(15,[0,1,2,4,13],...|\n",
      "|       0.0|    0|(15,[0,1,4,8],[6....|\n",
      "|       0.0|    0|(15,[0,1,2,4,7],[...|\n",
      "|       0.0|    0|(15,[0,1,2,5],[5....|\n",
      "|       0.0|    0|(15,[0,1,2,6,8],[...|\n",
      "+----------+-----+--------------------+\n",
      "only showing top 20 rows\n",
      "\n"
     ]
    }
   ],
   "source": [
    "rfm2 = RandomForestClassifier(featuresCol=\"features\",\n",
    "                              labelCol=\"label\",\n",
    "                              numTrees=500,\n",
    "                              maxDepth=5,\n",
    "                              featureSubsetStrategy='onethird')\n",
    "_ , pred2 = train(train_df, test_df, rfm2)\n",
    "\n",
    "pred2.select(\"prediction\", \"label\", \"features\").show()"
   ]
  },
  {
   "cell_type": "markdown",
   "metadata": {},
   "source": [
    "###### LOGISTIC REGRESSION"
   ]
  },
  {
   "cell_type": "code",
   "execution_count": 141,
   "metadata": {},
   "outputs": [],
   "source": [
    "lr = LogisticRegression(\n",
    "    featuresCol='features',\n",
    "    labelCol='label',\n",
    "    predictionCol='prediction',\n",
    "    maxIter=100)"
   ]
  },
  {
   "cell_type": "code",
   "execution_count": 142,
   "metadata": {},
   "outputs": [
    {
     "name": "stdout",
     "output_type": "stream",
     "text": [
      "LogisticRegression_d76aef9bf5e1\n",
      "\n",
      "    Accuracy  = 0.9017553636110337\n",
      "    Error     = 0.0982446363889663\n",
      "    Precision = 0.8131627358012676\n",
      "    Recall    = 0.9017553636110337\n",
      "    F1        = 0.8551707031941715\n",
      "+----------+-----+--------------------+\n",
      "|prediction|label|            features|\n",
      "+----------+-----+--------------------+\n",
      "|       0.0|    0|(15,[0,1,3,9],[8....|\n",
      "|       0.0|    0|(15,[0,1,2,5,8],[...|\n",
      "|       0.0|    0|(15,[0,1,3,7],[10...|\n",
      "|       0.0|    0|(15,[0,1,3,8],[4....|\n",
      "|       0.0|    1|(15,[0,1,2,3,7],[...|\n",
      "|       0.0|    0|(15,[0,1,5,8],[1....|\n",
      "|       0.0|    0|(15,[0,1,2,3,14],...|\n",
      "|       0.0|    0|(15,[0,1,3,13],[3...|\n",
      "|       0.0|    0|(15,[0,1,2,4,10],...|\n",
      "|       0.0|    0|(15,[0,1,2,3,9],[...|\n",
      "|       0.0|    0|(15,[0,1,2,8],[1....|\n",
      "|       0.0|    0|(15,[0,1,4,8],[4....|\n",
      "|       0.0|    0|(15,[0,1,3,12],[6...|\n",
      "|       0.0|    0|(15,[0,1,2,3,14],...|\n",
      "|       0.0|    0|(15,[0,1,4,8],[7....|\n",
      "|       0.0|    0|(15,[0,1,2,4,13],...|\n",
      "|       0.0|    0|(15,[0,1,4,8],[6....|\n",
      "|       0.0|    0|(15,[0,1,2,4,7],[...|\n",
      "|       0.0|    0|(15,[0,1,2,5],[5....|\n",
      "|       0.0|    0|(15,[0,1,2,6,8],[...|\n",
      "+----------+-----+--------------------+\n",
      "only showing top 20 rows\n",
      "\n"
     ]
    }
   ],
   "source": [
    "_ , pred3 = train(train_df, test_df, lr)\n",
    "\n",
    "\n",
    "pred2.select(\"prediction\", \"label\", \"features\").show()"
   ]
  },
  {
   "cell_type": "markdown",
   "metadata": {},
   "source": [
    "## PIPELINE "
   ]
  },
  {
   "cell_type": "markdown",
   "metadata": {},
   "source": [
    "##### DATA PREPARATION"
   ]
  },
  {
   "cell_type": "code",
   "execution_count": 125,
   "metadata": {},
   "outputs": [],
   "source": [
    "df = sparkSession.sql('select c.*, a.dept_no, dept_name, salary,title, f.emp_no manager_emp_id from \\\n",
    "departments a inner join dept_emp b on a.dept_no = b.dept_no \\\n",
    "inner join employees c \\\n",
    "on b.emp_no = c.emp_no \\\n",
    "inner join salaries d \\\n",
    "on c.emp_no = d.emp_no \\\n",
    "inner join titles e \\\n",
    "on c.emp_title_id = e.title_id \\\n",
    "inner join dept_managers f \\\n",
    "on a.dept_no = f.dept_no' )\n",
    "\n",
    "data2 = df.toPandas()\n",
    "\n",
    "lis = []\n",
    "for i in data2['last_date']:\n",
    "    if i =='':\n",
    "        lis.append(False)\n",
    "    else:\n",
    "        lis.append(True)\n",
    "        \n",
    "df = spark.createDataFrame(data2)\n",
    "\n",
    "\n",
    "df = df.withColumn('label',F.when(df.left_ == 'true', 1)\n",
    "                                   .otherwise(0))"
   ]
  },
  {
   "cell_type": "markdown",
   "metadata": {},
   "source": [
    "##### SETTING STAGES FOR PIPELINES"
   ]
  },
  {
   "cell_type": "code",
   "execution_count": 126,
   "metadata": {},
   "outputs": [],
   "source": [
    "#Which are categorical and which are continuous features?\n",
    "cat_features = ['sex','last_performance_rating', 'dept_no']\n",
    "continuous_features = ['no_of_projects', 'salary']\n",
    "\n",
    "cat_vecs = [ \"\".join( (cat, \"Vec\") ) for cat in cat_features ]\n",
    "\n",
    "#Including all features for model building\n",
    "all_features = continuous_features + cat_vecs\n"
   ]
  },
  {
   "cell_type": "markdown",
   "metadata": {},
   "source": [
    "##### FIXING STAGE"
   ]
  },
  {
   "cell_type": "code",
   "execution_count": 127,
   "metadata": {},
   "outputs": [],
   "source": [
    "def create_category_vars( dataset, field_name ):\n",
    "    idx_col = field_name + \"Index\"\n",
    "    col_vec = field_name + \"Vec\"\n",
    "\n",
    "    month_stringIndexer = StringIndexer( inputCol=field_name, outputCol=idx_col )\n",
    "\n",
    "    month_model = month_stringIndexer.fit( dataset )\n",
    "    month_indexed = month_model.transform( dataset )\n",
    "\n",
    "    month_encoder = OneHotEncoder( dropLast=True, inputCol=idx_col,outputCol= col_vec )\n",
    "    \n",
    "    return month_encoder.transform( month_indexed )\n",
    "\n",
    "for  col in  cat_features:\n",
    "    df = create_category_vars( df, col )\n",
    "    df.cache()\n",
    "\n",
    "\n",
    "# Creating the vector of all predictors\n",
    "assembler = VectorAssembler( inputCols = all_features, outputCol = \"features\")\n",
    "\n",
    "# ML Model\n",
    "rfm = RandomForestClassifier(featuresCol=\"features\",\n",
    "                              labelCol=\"label\",\n",
    "                              numTrees=500,\n",
    "                              maxDepth=5,\n",
    "                              featureSubsetStrategy='onethird')\n",
    "\n",
    "# Creating Pipeline\n",
    "pipeline = Pipeline( stages= [assembler, rfm])\n",
    " "
   ]
  },
  {
   "cell_type": "markdown",
   "metadata": {},
   "source": [
    "##### TRAIN TEST SPLIT"
   ]
  },
  {
   "cell_type": "code",
   "execution_count": 128,
   "metadata": {},
   "outputs": [],
   "source": [
    "train, test = df.randomSplit( [0.7, 0.3], seed = 42 )"
   ]
  },
  {
   "cell_type": "markdown",
   "metadata": {},
   "source": [
    "##### MODEL FITTING"
   ]
  },
  {
   "cell_type": "code",
   "execution_count": 129,
   "metadata": {},
   "outputs": [],
   "source": [
    "model = pipeline.fit(train)\n",
    "y_pred_train = model.transform(train)"
   ]
  },
  {
   "cell_type": "code",
   "execution_count": 130,
   "metadata": {},
   "outputs": [
    {
     "name": "stdout",
     "output_type": "stream",
     "text": [
      "+-----+--------------------+----------+\n",
      "|label|            features|prediction|\n",
      "+-----+--------------------+----------+\n",
      "|    1|(15,[0,1,2,5,12],...|       1.0|\n",
      "|    1|(15,[0,1,2,3,7],[...|       1.0|\n",
      "|    1|(15,[0,1,5,13],[5...|       1.0|\n",
      "|    1|(15,[0,1,4,7],[8....|       1.0|\n",
      "|    1|(15,[0,1,2,3,14],...|       1.0|\n",
      "|    1|(15,[0,1,2,3,8],[...|       1.0|\n",
      "|    1|(15,[0,1,4,7],[6....|       1.0|\n",
      "|    1|(15,[0,1,2,3,12],...|       1.0|\n",
      "|    1|(15,[0,1,2,3,7],[...|       1.0|\n",
      "|    1|(15,[0,1,2,4,11],...|       1.0|\n",
      "+-----+--------------------+----------+\n",
      "only showing top 10 rows\n",
      "\n"
     ]
    }
   ],
   "source": [
    "y_pred_train.select('label', 'features', 'prediction').show(10)"
   ]
  },
  {
   "cell_type": "code",
   "execution_count": 131,
   "metadata": {},
   "outputs": [
    {
     "name": "stdout",
     "output_type": "stream",
     "text": [
      "+-----+--------------------+----------+\n",
      "|label|            features|prediction|\n",
      "+-----+--------------------+----------+\n",
      "|    1|(15,[0,1,5,8],[9....|       1.0|\n",
      "|    1|(15,[0,1,2,4,8],[...|       1.0|\n",
      "|    1|(15,[0,1,2,5,7],[...|       1.0|\n",
      "|    1|(15,[0,1,2,4,8],[...|       1.0|\n",
      "|    1|(15,[0,1,2,4,10],...|       1.0|\n",
      "|    1|(15,[0,1,2,3,8],[...|       1.0|\n",
      "|    1|(15,[0,1,2,3,8],[...|       1.0|\n",
      "|    1|(15,[0,1,2,5,12],...|       1.0|\n",
      "|    1|(15,[0,1,2,4,9],[...|       1.0|\n",
      "|    1|(15,[0,1,2,3,12],...|       1.0|\n",
      "+-----+--------------------+----------+\n",
      "only showing top 10 rows\n",
      "\n"
     ]
    }
   ],
   "source": [
    "y_pred_test = model.transform(test)\n",
    "y_pred_test.select('label', 'features', 'prediction').show(10)"
   ]
  },
  {
   "cell_type": "code",
   "execution_count": null,
   "metadata": {},
   "outputs": [],
   "source": []
  }
 ],
 "metadata": {
  "kernelspec": {
   "display_name": "Python 3",
   "language": "python",
   "name": "python3"
  },
  "language_info": {
   "codemirror_mode": {
    "name": "ipython",
    "version": 3
   },
   "file_extension": ".py",
   "mimetype": "text/x-python",
   "name": "python",
   "nbconvert_exporter": "python",
   "pygments_lexer": "ipython3",
   "version": "3.7.6"
  }
 },
 "nbformat": 4,
 "nbformat_minor": 4
}
